{
 "cells": [
  {
   "cell_type": "code",
   "execution_count": 29,
   "id": "b55a202a",
   "metadata": {},
   "outputs": [],
   "source": [
    "import requests\n",
    "from config import weather_api_key"
   ]
  },
  {
   "cell_type": "code",
   "execution_count": 30,
   "id": "8ef10f74",
   "metadata": {},
   "outputs": [],
   "source": [
    "url = \"http://api.openweathermap.org/data/2.5/weather?\"\n",
    "city = \"London\"\n"
   ]
  },
  {
   "cell_type": "code",
   "execution_count": 38,
   "id": "4dbae2ee",
   "metadata": {},
   "outputs": [
    {
     "name": "stdout",
     "output_type": "stream",
     "text": [
      "http://api.openweathermap.org/data/2.5/weather?&q=London&appid=9c7a68ad3356346215a0eaa8f662eb55\n"
     ]
    }
   ],
   "source": [
    "##api.openweathermap.org/data/2.5/weather?q={city name}&appid={API key}\n",
    "\n",
    "\n",
    "query_url = url + \"&q=\" + city + \"&\" + \"appid=\" + weather_api_key \n",
    "print (query_url)"
   ]
  },
  {
   "cell_type": "code",
   "execution_count": 39,
   "id": "b581b35d",
   "metadata": {},
   "outputs": [],
   "source": [
    "weather_response = requests.get(query_url)\n",
    "weather_json=weather_response.json()\n"
   ]
  },
  {
   "cell_type": "code",
   "execution_count": 40,
   "id": "42cd0182",
   "metadata": {},
   "outputs": [
    {
     "data": {
      "text/plain": [
       "dict_keys(['coord', 'weather', 'base', 'main', 'visibility', 'wind', 'clouds', 'dt', 'sys', 'timezone', 'id', 'name', 'cod'])"
      ]
     },
     "execution_count": 40,
     "metadata": {},
     "output_type": "execute_result"
    }
   ],
   "source": [
    "weather_json.keys()"
   ]
  },
  {
   "cell_type": "code",
   "execution_count": 43,
   "id": "457600d1",
   "metadata": {},
   "outputs": [
    {
     "data": {
      "text/plain": [
       "{'temp': 278.36,\n",
       " 'feels_like': 275.51,\n",
       " 'temp_min': 276.14,\n",
       " 'temp_max': 280.36,\n",
       " 'pressure': 1024,\n",
       " 'humidity': 88}"
      ]
     },
     "execution_count": 43,
     "metadata": {},
     "output_type": "execute_result"
    }
   ],
   "source": [
    "weather_json.get(\"main\")"
   ]
  },
  {
   "cell_type": "code",
   "execution_count": null,
   "id": "66ab3835",
   "metadata": {},
   "outputs": [],
   "source": []
  }
 ],
 "metadata": {
  "kernelspec": {
   "display_name": "Python 3 (ipykernel)",
   "language": "python",
   "name": "python3"
  },
  "language_info": {
   "codemirror_mode": {
    "name": "ipython",
    "version": 3
   },
   "file_extension": ".py",
   "mimetype": "text/x-python",
   "name": "python",
   "nbconvert_exporter": "python",
   "pygments_lexer": "ipython3",
   "version": "3.9.5"
  }
 },
 "nbformat": 4,
 "nbformat_minor": 5
}
